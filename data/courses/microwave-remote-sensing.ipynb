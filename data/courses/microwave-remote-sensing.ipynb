{
 "cells": [
  {
   "cell_type": "code",
   "execution_count": 65,
   "metadata": {},
   "outputs": [],
   "source": [
    "import intake\n",
    "import intake_xarray\n",
    "\n",
    "import numpy as np\n",
    "import xarray as xr\n",
    "\n",
    "import rioxarray #noqa\n",
    "\n",
    "\n",
    "from pathlib import Path\n",
    "from functools import partial"
   ]
  },
  {
   "cell_type": "code",
   "execution_count": 66,
   "metadata": {},
   "outputs": [],
   "source": [
    "cat = intake.entry.Catalog()"
   ]
  },
  {
   "cell_type": "code",
   "execution_count": 67,
   "metadata": {},
   "outputs": [],
   "source": [
    "pre = \"../../../data/courses/\"\n",
    "f_gtc = \"microwave-remote-sensing/gtc.zarr\"\n",
    "f_coef = \"microwave-remote-sensing/coef.zarr\"\n",
    "f_rtc = \"microwave-remote-sensing/rtc.zarr\""
   ]
  },
  {
   "cell_type": "code",
   "execution_count": 68,
   "metadata": {},
   "outputs": [],
   "source": [
    "def _preprocess(x, xlims, ylims, scale):\n",
    "    '''\n",
    "    Preprocess file.\n",
    "\n",
    "    Parameters\n",
    "    ----------\n",
    "    x : xarray.Dataset\n",
    "    xlims: tuple\n",
    "    ylims: tuple\n",
    "\n",
    "    Returns\n",
    "    -------\n",
    "    xarray.Dataset\n",
    "    '''\n",
    "    x = x * scale\n",
    "    x = x.sel(x=slice(*xlims), y=slice(*ylims))\n",
    "    x = x.assign_coords(band=[Path(x.encoding[\"source\"]).parent.stem])\n",
    "    return x"
   ]
  },
  {
   "cell_type": "code",
   "execution_count": 69,
   "metadata": {},
   "outputs": [],
   "source": [
    "data_path = Path(\"~/shared/datasets/rs/sentinel-1\").expanduser()\n",
    "\n",
    "# longitude and latitude\n",
    "xlims, ylims = (9.5, 10), (47.5, 47)\n",
    "partial_func = partial(_preprocess, xlims=xlims, ylims=ylims, scale=1)\n",
    "\n",
    "gtc_dc = xr.open_mfdataset(\n",
    "    (data_path / \"gtc\").glob(\"**/*.tif\"),\n",
    "    engine=\"rasterio\",\n",
    "    combine=\"nested\",\n",
    "    concat_dim=\"band\",\n",
    "    preprocess=partial_func,\n",
    "    join=\"override\",\n",
    "    chunks={\"x\":1000, \"y\":1000},\n",
    "    parallel=True\n",
    "    ).\\\n",
    "    compute()\n",
    "\n",
    "coef_dc = xr.open_mfdataset(\n",
    "    (data_path / \"coefs\").glob(\"**/*.tif\"),\n",
    "    engine=\"rasterio\",\n",
    "    combine=\"nested\",\n",
    "    concat_dim=\"band\",\n",
    "    preprocess=partial_func,\n",
    "    join=\"override\",\n",
    "    chunks={\"x\":1000, \"y\":1000},\n",
    "    parallel=True\n",
    "    ).\\\n",
    "    compute()\n",
    "\n",
    "rtc_dc = xr.open_mfdataset(\n",
    "    (data_path / \"rtc\").glob(\"**/*.tif\"),\n",
    "    engine=\"rasterio\",\n",
    "    combine=\"nested\",\n",
    "    concat_dim=\"band\",\n",
    "    preprocess=partial_func,\n",
    "    join=\"override\",\n",
    "    chunks={\"x\":1000, \"y\":1000},\n",
    "    parallel=True\n",
    "    ).\\\n",
    "    compute()"
   ]
  },
  {
   "cell_type": "code",
   "execution_count": 70,
   "metadata": {},
   "outputs": [
    {
     "data": {
      "text/plain": [
       "<xarray.backends.zarr.ZarrStore at 0x7f364affbf40>"
      ]
     },
     "execution_count": 70,
     "metadata": {},
     "output_type": "execute_result"
    }
   ],
   "source": [
    "gtc_dc.to_zarr(f_gtc, mode=\"w\")\n",
    "coef_dc.to_zarr(f_coef, mode=\"w\")\n",
    "rtc_dc.to_zarr(f_rtc, mode=\"w\")"
   ]
  },
  {
   "cell_type": "code",
   "execution_count": 71,
   "metadata": {},
   "outputs": [],
   "source": [
    "for i in [f_gtc, f_coef, f_rtc]:\n",
    "    source = intake.open_zarr(\n",
    "        i,\n",
    "        decode_coords=\"all\",\n",
    "        chunks={},\n",
    "    )\n",
    "    cat[str(Path(i).stem)] = source.reader()"
   ]
  },
  {
   "cell_type": "code",
   "execution_count": 72,
   "metadata": {},
   "outputs": [],
   "source": [
    "cat.to_yaml_file(\"microwave-remote-sensing.yml\")"
   ]
  }
 ],
 "metadata": {
  "kernelspec": {
   "display_name": "microwave-remote-sensing",
   "language": "python",
   "name": "microwave-remote-sensing"
  },
  "language_info": {
   "codemirror_mode": {
    "name": "ipython",
    "version": 3
   },
   "file_extension": ".py",
   "mimetype": "text/x-python",
   "name": "python",
   "nbconvert_exporter": "python",
   "pygments_lexer": "ipython3",
   "version": "3.11.11"
  }
 },
 "nbformat": 4,
 "nbformat_minor": 2
}

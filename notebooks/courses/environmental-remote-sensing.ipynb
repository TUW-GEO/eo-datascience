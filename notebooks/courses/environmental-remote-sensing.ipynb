{
 "cells": [
  {
   "cell_type": "markdown",
   "id": "0",
   "metadata": {},
   "source": [
    "---\n",
    "title: Environmental Remote Sensing\n",
    "jupyter: python3\n",
    "---\n",
    "\n",
    "\n",
    "These course materials where developed in the framework of the DrySat project: *Enhancing Drought Early Warning in Mozambique through Satellite Soil Moisture Data to support food security in the context of climate change*.\n",
    "\n",
    "## Prerequisites\n",
    "\n",
    "| Concepts | Importance | Notes |\n",
    "|---|---|---|\n",
    "| [Intro to Earth Observation Data Science](https://projectpythia.org/eo-datascience-cookbook/README.html) | Helpful | |\n",
    "| [Documentation hvPlot](https://hvplot.holoviz.org/)|Helpful|Interactive plotting|\n",
    "| [Documentation pandas](https://pandas.pydata.org/)|Helpful|Tabular data wrangling|\n",
    "\n",
    "- **Time to learn**: 90 min\n",
    "\n",
    "::: {.callout-note}\n",
    "These notebooks contain interactive elements. The full interactive elements can \n",
    "only be viewed on Binder by clicking on the Binder badge or 🚀 button.\n",
    ":::"
   ]
  }
 ],
 "metadata": {
  "kernelspec": {
   "display_name": "Python 3 (ipykernel)",
   "language": "python",
   "name": "python3",
   "path": "/usr/share/jupyter/kernels/python3"
  }
 },
 "nbformat": 4,
 "nbformat_minor": 5
}

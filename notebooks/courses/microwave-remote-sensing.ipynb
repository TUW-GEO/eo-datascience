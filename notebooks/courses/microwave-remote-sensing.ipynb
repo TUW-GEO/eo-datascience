{
 "cells": [
  {
   "cell_type": "markdown",
   "id": "0",
   "metadata": {},
   "source": [
    "---\n",
    "title: Microwave Remote Sensing\n",
    "jupyter:\n",
    "  kernelspec:\n",
    "    name: \"microwave-remote-sensing\"\n",
    "    language: \"python\"\n",
    "    display_name: \"microwave-remote-sensing\"\n",
    "---\n",
    "\n",
    "\n",
    "This course ..."
   ]
  }
 ],
 "metadata": {
  "kernelspec": {
   "display_name": "microwave-remote-sensing",
   "language": "python",
   "name": "microwave-remote-sensing"
  }
 },
 "nbformat": 4,
 "nbformat_minor": 5
}

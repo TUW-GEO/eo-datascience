{
 "cells": [
  {
   "cell_type": "markdown",
   "id": "0",
   "metadata": {},
   "source": [
    "---\n",
    "title: Microwave Remote Sensing\n",
    "jupyter:\n",
    "  kernelspec:\n",
    "    name: \"microwave-remote-sensing\"\n",
    "    language: \"python\"\n",
    "    display_name: \"microwave-remote-sensing\"\n",
    "---\n",
    "\n",
    "\n",
    "This course at the TU Wien teaches students to read, visualize and analyze Synthetic Aperture Radar (SAR) data. This will aid interpretation of SAR data based upon a physical understanding of sensing principles and the interaction of microwaves with natural objects.\n",
    "\n",
    "::: {.callout-note}\n",
    "These notebooks contain interactive elements. The full interactive elements can only be viewed on Binder by clicking on the Binder badge or 🚀 button.\n",
    ":::"
   ]
  }
 ],
 "metadata": {
  "kernelspec": {
   "display_name": "microwave-remote-sensing",
   "language": "python",
   "name": "microwave-remote-sensing"
  }
 },
 "nbformat": 4,
 "nbformat_minor": 5
}

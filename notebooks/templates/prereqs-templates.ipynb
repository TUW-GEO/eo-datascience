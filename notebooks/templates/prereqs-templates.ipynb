{
 "cells": [
  {
   "cell_type": "markdown",
   "id": "0",
   "metadata": {},
   "source": [
    "---\n",
    "title: Templates\n",
    "jupyter:\n",
    "  kernelspec:\n",
    "    name: \"microwave-remote-sensing\"\n",
    "    language: \"python\"\n",
    "    display_name: \"eo-datascience\"\n",
    "---\n",
    "\n",
    "\n",
    "This section of the Cookbook covers a wide range of topics. The intent is to\n",
    "showcase different applications of remote sensing, which are not in the context\n",
    "of a specific course.\n",
    "\n",
    "| Concepts | Importance | Notes |\n",
    "|---|---|---|\n",
    "| [Intro to xarray](https://foundations.projectpythia.org/core/xarray/xarray-intro.html) | Neccesary | |\n",
    "| [Dask Arrays](https://foundations.projectpythia.org/core/xarray/dask-arrays-xarray.html)| Neccesary| |\n",
    "| [Documentation scikit-learn](https://scikit-learn.org/stable/)|Neccesary|Machine Learning in Python|\n",
    "| [Documentation Matplotlib](https://matplotlib.org/stable/users/explain/quick_start.html)|Helpful|Ploting in Python|\n",
    "| [Documentation odc-stac](https://odc-stac.readthedocs.io/en/latest/)|Helpful|Data access|\n",
    "\n",
    "- **Time to learn**: 30 min"
   ]
  }
 ],
 "metadata": {
  "kernelspec": {
   "display_name": "eo-datascience",
   "language": "python",
   "name": "microwave-remote-sensing"
  }
 },
 "nbformat": 4,
 "nbformat_minor": 5
}

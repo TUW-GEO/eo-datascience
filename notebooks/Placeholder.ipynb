{
  "cells": [
    {
      "cell_type": "raw",
      "metadata": {},
      "source": [
        "---\n",
        "title: Placeholder\n",
        "subtitle: Placeholder\n",
        "---"
      ]
    }
  ],
  "metadata": {
    "kernelspec": {
      "name": "Floodmapping",
      "language": "python",
      "display_name": "Floodmapping"
    }
  },
  "nbformat": 4,
  "nbformat_minor": 4
}
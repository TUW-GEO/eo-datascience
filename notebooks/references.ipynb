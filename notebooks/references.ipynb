{
  "cells": [
    {
      "cell_type": "markdown",
      "metadata": {},
      "source": [
        "# References {.unnumbered}\n",
        "\n",
        "::: {#refs}\n",
        ":::"
      ]
    }
  ],
  "metadata": {
    "kernelspec": {
      "name": "01_classification",
      "language": "python",
      "display_name": "01_classification",
      "path": "/home/runner/.local/share/jupyter/kernels/01_classification"
    }
  },
  "nbformat": 4,
  "nbformat_minor": 4
}
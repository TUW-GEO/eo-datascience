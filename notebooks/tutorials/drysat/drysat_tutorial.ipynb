{
 "cells": [
  {
   "cell_type": "markdown",
   "metadata": {},
   "source": [
    "## Soilmoisture analysis and validation for Mozambique"
   ]
  },
  {
   "cell_type": "markdown",
   "metadata": {},
   "source": [
    "\n",
    "The aim of this notebook is to show a possible workflow for analyzing and validating soil moisture data in Mozambique retrieved from ground measurements and ASCAT satellite data. Due to the given ground measurement data we focus on 5 different areas Buzi, Chokwé, Mabalane, Mabote and Muanza.\n"
   ]
  },
  {
   "cell_type": "markdown",
   "metadata": {},
   "source": [
    "## Meta Workflow\n",
    "\n",
    "1. Obtaining ground data (access, visiualize(cardtopy, histogram)... )\n",
    "2. Obtaining ASCAT satellite data (access, transform data, df wide to long, visiualize (histogram, spatial image)... )\n",
    "3. Visual validation (compare histograms)\n",
    "4. Statistic validation\n",
    ".."
   ]
  },
  {
   "cell_type": "code",
   "execution_count": null,
   "metadata": {},
   "outputs": [],
   "source": [
    "from datetime import datetime\n",
    "from importlib import reload\n",
    "from time import time\n",
    "import netCDF4 as nc\n",
    "import ascat.read_native.ragged_array_ts as rat\n",
    "from ascat.read_native.ragged_array_ts import SwathFileCollection\n",
    "from ascat.read_native import xarray_io\n",
    "import numpy as np\n",
    "import xarray as xr\n",
    "import geopandas as gpd\n",
    "import osmnx as ox\n",
    "import os\n",
    "import folium"
   ]
  },
  {
   "cell_type": "markdown",
   "metadata": {},
   "source": [
    "________________________\n",
    "\n",
    "#### Sub Workflow- Map visualizing & metadata \n",
    "\n",
    "Overview:\n",
    "\n",
    "- I tried two different ways of visualizing cartopy and folium\n",
    "- I checked out the metadata like time and spatial range with the netCDF4 package \n",
    "\n",
    "Problems:\n",
    "\n",
    "- failed attempts to access the ascat data are saved in file \"fails.ipynb\""
   ]
  },
  {
   "cell_type": "code",
   "execution_count": null,
   "metadata": {},
   "outputs": [],
   "source": [
    "#At this point we want to figure out the bounding box of an area in this case Buzi in Mozambique\n",
    "\n",
    "\n",
    "# Define location name\n",
    "place_name = \"Buzi, Mozambique\"\n",
    "\n",
    "\n",
    "# Get GeoDataFrame from OpenStreetMap\n",
    "gdf = ox.geocode_to_gdf(place_name)\n",
    "\n",
    "# Get bounding box\n",
    "bbox = gdf.total_bounds  # [minx, miny, maxx, maxy]\n",
    "print(f\"Bounding Box for {place_name}: {bbox}\")"
   ]
  },
  {
   "cell_type": "code",
   "execution_count": null,
   "metadata": {},
   "outputs": [],
   "source": [
    "# Define location name\n",
    "place_name = \"Mozambique\"\n",
    "\n",
    "\n",
    "# Get GeoDataFrame from OpenStreetMap\n",
    "gdf = ox.geocode_to_gdf(place_name)\n",
    "\n",
    "# Get bounding box\n",
    "bbox = gdf.total_bounds  # [minx, miny, maxx, maxy]\n",
    "print(f\"Bounding Box for {place_name}: {bbox}\")"
   ]
  },
  {
   "cell_type": "code",
   "execution_count": null,
   "metadata": {},
   "outputs": [],
   "source": [
    "#I'm not sure if cartopy is really the most elegant way to visualize in this case so I once tried it with #cartopy and the other time with folium"
   ]
  },
  {
   "cell_type": "code",
   "execution_count": null,
   "metadata": {},
   "outputs": [],
   "source": [
    "#In order to visualize our bounding box on the map we use the cartopy library\n",
    "\n",
    "\n",
    "import matplotlib.pyplot as plt\n",
    "import cartopy.crs as ccrs\n",
    "import cartopy.feature as cfeature\n",
    "from shapely.geometry import box\n",
    "import cartopy.io.shapereader as shpreader\n",
    "\n",
    "# Original Buzi bounding box (small, precise region)\n",
    "buzi_bbox = [33.8931254, 34.8127126, -20.5695588, -19.582687]  # (lon_min, lon_max, lat_min, lat_max)\n",
    "\n",
    "# Expanded bounding box (to give context)\n",
    "lon_min, lon_max = 15, 60  # Wider longitude range\n",
    "lat_min, lat_max = -7, -40  # Taller latitude range\n",
    "\n",
    "# Create figure with PlateCarree projection\n",
    "fig, ax = plt.subplots(figsize=(10, 8), subplot_kw={'projection': ccrs.PlateCarree()})\n",
    "\n",
    "# Set the map extent to the larger bounding box\n",
    "ax.set_extent([lon_min, lon_max, lat_min, lat_max], crs=ccrs.PlateCarree())\n",
    "\n",
    "# Add background map features\n",
    "ax.add_feature(cfeature.BORDERS, linestyle='-')\n",
    "ax.add_feature(cfeature.COASTLINE)\n",
    "ax.add_feature(cfeature.LAND, facecolor='lightgreen')\n",
    "ax.add_feature(cfeature.OCEAN, facecolor='lightblue')\n",
    "\n",
    "\n",
    "\n",
    "# Add gridlines\n",
    "gl = ax.gridlines(draw_labels=True, linestyle=\"--\", alpha=0.5)\n",
    "gl.right_labels = False\n",
    "gl.top_labels = False\n",
    "\n",
    "\n",
    "# Draw the original Buzi bounding box (in red)\n",
    "buzi_box = box(buzi_bbox[0], buzi_bbox[2], buzi_bbox[1], buzi_bbox[3])\n",
    "ax.add_geometries([buzi_box], crs=ccrs.PlateCarree(), facecolor='none', edgecolor='red', linewidth=2, label=\"Buzi Region\")\n",
    "ax.text(35, -20.4, \"Buzi\", fontsize=12, color='red', weight='bold',\n",
    "        transform=ccrs.PlateCarree())\n",
    "\n",
    "# Add title and legend\n",
    "plt.title(\"Mozambique\")\n",
    "plt.legend()\n",
    "\n",
    "# Show the map\n",
    "plt.show()\n"
   ]
  },
  {
   "cell_type": "code",
   "execution_count": null,
   "metadata": {},
   "outputs": [],
   "source": [
    "# Create map centered on Mozambique\n",
    "m = folium.Map(location=[-20, 40], zoom_start=5)\n",
    "\n",
    "# Bounding Box [min_lon, max_lon, min_lat, max_lat]\n",
    "bb = [34, 35, -21, -20]\n",
    "\n",
    "# Define the coordinates for the bounding box\n",
    "coordinates = [\n",
    "    [bb[2], bb[0]],  # [min_lat, min_lon]\n",
    "    [bb[2], bb[1]],  # [min_lat, max_lon]\n",
    "    [bb[3], bb[1]],  # [max_lat, max_lon]\n",
    "    [bb[3], bb[0]],  # [max_lat, min_lon]\n",
    "    [bb[2], bb[0]],  # Closing the loop: [min_lat, min_lon]\n",
    "]\n",
    "\n",
    "# Create a polygon (bounding box) and add a fill\n",
    "bounding_box = folium.Polygon(\n",
    "    locations=coordinates,\n",
    "    color=\"#39FF14\",  # Border color\n",
    "    weight=1,\n",
    "    fill=True,  # Fill the box with color\n",
    "    fill_color=\"#39FF14\",  # Fill color\n",
    "    fill_opacity=0.3  # Make the fill semi-transparent\n",
    ").add_to(m)\n",
    "\n",
    "# Add a popup to the bounding box (this will be triggered on click inside the filled area)\n",
    "popup_label = \"Buzi\"  # Text for the popup\n",
    "folium.Popup(popup_label).add_to(bounding_box)\n",
    "\n",
    "\n",
    "\n",
    "# Display the map\n",
    "m"
   ]
  },
  {
   "cell_type": "code",
   "execution_count": null,
   "metadata": {},
   "outputs": [],
   "source": [
    "#Here we take a look at the metadata of one netCDF file called \"1524.nc\"\n",
    "\n",
    "ncsource= \"/home/jlinke/shares/exchange/students/julian/ASCAT_Mozambique_data/1524.nc\"\n",
    "ds=nc.Dataset(ncsource)\n",
    "print(ds)"
   ]
  },
  {
   "cell_type": "code",
   "execution_count": null,
   "metadata": {},
   "outputs": [],
   "source": [
    "#We can access the variables of the netCDF file like a library object\n",
    "#Be aware not to confuse the metadata from above with the variable keys\n",
    "#Although the variable keys are already given in the metadata as well (see \"variables(dimensions): int64 row_size(locations),...\")\n",
    "\n",
    "print(ds.variables.keys())"
   ]
  },
  {
   "cell_type": "code",
   "execution_count": null,
   "metadata": {},
   "outputs": [],
   "source": [
    "#metadata about how the time data is stored\n",
    "\n",
    "print(ds.variables['time'])"
   ]
  },
  {
   "cell_type": "code",
   "execution_count": null,
   "metadata": {},
   "outputs": [],
   "source": [
    "#As you can see above (see \"units: days since 1970-01-01 00:00:00\") we have a big timeframe to look at\n",
    "#Just to be sure we check when the timeframe starts and ends \n",
    "#We also take a look at the time resolution of the first ten timestamps \n",
    "\n",
    "# Extract first time value\n",
    "time_var = ds.variables[\"time\"]  # Access time variable\n",
    "time_units = time_var.units  # Get the unit string (e.g., \"days since 1970-01-01\")\n",
    "time_value_start = time_var[0]  # First timestamp\n",
    "time_value_10 = time_var[0:9]  # First few timestemps\n",
    "time_value_end = time_var[-1]   # Last timestamp\n",
    "\n",
    "# Convert to readable date\n",
    "first_date = nc.num2date(time_value_start, units=time_units)\n",
    "last_date = nc.num2date(time_value_end, units=time_units)\n",
    "first_ten = nc.num2date(time_value_10, units=time_units)\n",
    "\n",
    "\n",
    "print(\"First observation date:\", first_date, \"\\n\", \"Last observation date:\", last_date,\"\\n\")\n",
    "print(\"First 10 observation dates:\") \n",
    "\n",
    "\n",
    "for i in range(len(first_ten)):\n",
    "    print(first_ten[i])\n",
    "\n",
    "# Close dataset\n",
    "#ds.close()"
   ]
  },
  {
   "cell_type": "code",
   "execution_count": null,
   "metadata": {},
   "outputs": [],
   "source": [
    "print(ds.variables.keys())"
   ]
  },
  {
   "cell_type": "code",
   "execution_count": null,
   "metadata": {},
   "outputs": [],
   "source": [
    "#Now we gonna take a look at the minimum and maximum latitude and longitude \n",
    "lat_var=ds.variables['lat']\n",
    "lon_var=ds.variables['lon']\n",
    "\n",
    "print(\"Max latitude:\",max(lat_var),\"Min latitude:\",min(lat_var),\"\\n\")\n",
    "print(\"Max longitude:\",max(lon_var),\"Min longitude:\",min(lon_var))\n",
    "\n"
   ]
  },
  {
   "cell_type": "markdown",
   "metadata": {},
   "source": [
    "_____________________________\n",
    "\n",
    "#### Subworklow- rat.CellFileCollection.from_product_id"
   ]
  },
  {
   "cell_type": "code",
   "execution_count": null,
   "metadata": {},
   "outputs": [],
   "source": [
    "#Now \n",
    "\n",
    "collection = rat.CellFileCollection.from_product_id(\"/home/jlinke/shares/exchange/students/julian/ASCAT_Mozambique_data/\", product_id=\"H121_v1.0\")\n",
    "\n",
    "bounds=[-26.9209427, -10.3252149, 30.2121663, 41.0545908 ] #latmin, latmax, lonmin, lonmax\n",
    "\n",
    "\n",
    "#"
   ]
  },
  {
   "cell_type": "code",
   "execution_count": null,
   "metadata": {},
   "outputs": [],
   "source": [
    "data = collection.read(bbox=bounds, mask_and_scale=False)"
   ]
  },
  {
   "cell_type": "code",
   "execution_count": null,
   "metadata": {},
   "outputs": [],
   "source": [
    "\n",
    "\n",
    "print(type(data))"
   ]
  },
  {
   "cell_type": "code",
   "execution_count": null,
   "metadata": {},
   "outputs": [],
   "source": []
  }
 ],
 "metadata": {
  "kernelspec": {
   "display_name": "drysat",
   "language": "python",
   "name": "python3"
  },
  "language_info": {
   "codemirror_mode": {
    "name": "ipython",
    "version": 3
   },
   "file_extension": ".py",
   "mimetype": "text/x-python",
   "name": "python",
   "nbconvert_exporter": "python",
   "pygments_lexer": "ipython3",
   "version": "3.13.2"
  }
 },
 "nbformat": 4,
 "nbformat_minor": 2
}

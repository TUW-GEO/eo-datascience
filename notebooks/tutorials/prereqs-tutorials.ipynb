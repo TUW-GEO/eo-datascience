{
 "cells": [
  {
   "cell_type": "markdown",
   "id": "0",
   "metadata": {},
   "source": [
    "---\n",
    "title: Tutorials\n",
    "jupyter: python3\n",
    "---\n",
    "\n",
    "\n",
    "This section of the Cookbook covers a wide range of topics. They showcase the \n",
    "creation and usage of data products developed by TU Wien and EODC.\n",
    "\n",
    "\n",
    "| Concepts | Importance | Notes |\n",
    "|---|---|---|\n",
    "| [Intro to xarray](https://foundations.projectpythia.org/core/xarray/xarray-intro.html) | Necessary | |\n",
    "| [Dask Arrays](https://foundations.projectpythia.org/core/xarray/dask-arrays-xarray.html)| Necessary| |\n",
    "| [Documentation hvPlot](https://hvplot.holoviz.org/)|Helpful|Interactive plotting|\n",
    "| [Documentation odc-stac](https://odc-stac.readthedocs.io/en/latest/)|Helpful|Data access|\n",
    "\n",
    "- **Time to learn**: 10 min"
   ]
  }
 ],
 "metadata": {
  "kernelspec": {
   "display_name": "Python 3 (ipykernel)",
   "language": "python",
   "name": "python3",
   "path": "/usr/share/jupyter/kernels/python3"
  },
  "language_info": {
   "codemirror_mode": {
    "name": "ipython",
    "version": 3
   },
   "file_extension": ".py",
   "mimetype": "text/x-python",
   "name": "python",
   "nbconvert_exporter": "python",
   "pygments_lexer": "ipython3",
   "version": "3.12.8"
  }
 },
 "nbformat": 4,
 "nbformat_minor": 5
}

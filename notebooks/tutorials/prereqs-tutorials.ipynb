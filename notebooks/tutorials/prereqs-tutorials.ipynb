{
 "cells": [
  {
   "cell_type": "markdown",
   "id": "0",
   "metadata": {},
   "source": [
    "---\n",
    "title: Tutorials\n",
    "jupyter: python3\n",
    "---\n",
    "\n",
    "\n",
    "This section of the Cookbook covers a wide range of topics. They showcase the \n",
    "creation and usage of data products developed by TU Wien and EODC."
   ]
  }
 ],
 "metadata": {
  "kernelspec": {
   "display_name": "Python 3 (ipykernel)",
   "language": "python",
   "name": "python3",
   "path": "/usr/share/jupyter/kernels/python3"
  }
 },
 "nbformat": 4,
 "nbformat_minor": 5
}

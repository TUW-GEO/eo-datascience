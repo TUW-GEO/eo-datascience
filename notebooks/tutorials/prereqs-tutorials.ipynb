{
 "cells": [
  {
   "cell_type": "markdown",
   "id": "0",
   "metadata": {},
   "source": [
    "---\n",
    "title: Tutorials\n",
    "jupyter:\n",
    "  kernelspec:\n",
    "    name: \"microwave-remote-sensing\"\n",
    "    language: \"python\"\n",
    "    display_name: \"eo-datascience\"\n",
    "---\n",
    "\n",
    "\n",
    "This section of the Cookbook covers a wide range of topics. The intent is to\n",
    "showcase different applications of remote sensing, which are not in the context\n",
    "of a specific course.\n",
    "\n",
    "| Concepts | Importance | Notes |\n",
    "|---|---|---|\n",
    "| [Intro to xarray](https://foundations.projectpythia.org/core/xarray/xarray-intro.html) | Neccesary | |\n",
    "| [Dask Arrays](https://foundations.projectpythia.org/core/xarray/dask-arrays-xarray.html)| Neccesary| |\n",
    "| [Documentation hvPlot](https://hvplot.holoviz.org/)|Helpful|Interactive ploting|\n",
    "| [Documentation odc-stac](https://odc-stac.readthedocs.io/en/latest/)|Helpful|Data access|\n",
    "| [Scientific Background](https://www.mdpi.com/2072-4292/14/15/3673)|Helpful||\n",
    "\n",
    "- **Time to learn**: 30 min"
   ]
  }
 ],
 "metadata": {
  "kernelspec": {
   "display_name": "eo-datascience",
   "language": "python",
   "name": "microwave-remote-sensing"
  },
  "language_info": {
   "codemirror_mode": {
    "name": "ipython",
    "version": 3
   },
   "file_extension": ".py",
   "mimetype": "text/x-python",
   "name": "python",
   "nbconvert_exporter": "python",
   "pygments_lexer": "ipython3",
   "version": "3.11.11"
  }
 },
 "nbformat": 4,
 "nbformat_minor": 5
}

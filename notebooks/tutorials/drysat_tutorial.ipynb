{
 "cells": [
  {
   "cell_type": "markdown",
   "metadata": {},
   "source": [
    "## Soilmoisture analysis and validation for Mozambique"
   ]
  },
  {
   "cell_type": "markdown",
   "metadata": {},
   "source": [
    "<div style=\"line-height: 1.4;\">\n",
    "The aim of this notebook is to show a possible workflow for analyzing and validating soil moisture data in Mozambique retrieved from ground measurements and ASCAT satellite data. Due to the given ground measurement data we focus on 5 different areas Buzi, Chokwé, Mabalane, Mabote and Muanza.\n",
    "<div>"
   ]
  },
  {
   "cell_type": "markdown",
   "metadata": {},
   "source": [
    "### Workflow\n",
    "\n",
    "1. Obtaining ground data (access, visiualize(cardtopy, histogram)... )\n",
    "2. Obtaining ASCAT satellite data (access, transform data, df wide to lng, visiualize (histogram, spatial image)... )\n",
    "3. Visual validation (compare histograms)\n",
    "4. Statistic validation\n",
    ".."
   ]
  },
  {
   "cell_type": "code",
   "execution_count": null,
   "metadata": {},
   "outputs": [],
   "source": [
    "from datetime import datetime\n",
    "from importlib import reload\n",
    "from time import time\n",
    "import netCDF4 as nc\n",
    "import ascat.read_native.ragged_array_ts as rat\n",
    "import numpy as np\n",
    "import xarray as xr\n",
    "import geopandas as gpd\n",
    "import osmnx as ox\n",
    "import os"
   ]
  },
  {
   "cell_type": "code",
   "execution_count": null,
   "metadata": {},
   "outputs": [],
   "source": [
    "#At this point we want to figure out the bounding box of an area in this case Buzi in Mozambique\n",
    "\n",
    "\n",
    "# Define location name\n",
    "place_name = \"Buzi, Mozambique\"\n",
    "\n",
    "\n",
    "# Get GeoDataFrame from OpenStreetMap\n",
    "gdf = ox.geocode_to_gdf(place_name)\n",
    "\n",
    "# Get bounding box\n",
    "bbox = gdf.total_bounds  # [minx, miny, maxx, maxy]\n",
    "print(f\"Bounding Box for {place_name}: {bbox}\")"
   ]
  },
  {
   "cell_type": "markdown",
   "metadata": {},
   "source": [
    "I'm not sure if cartopy is really the most elegant way to visualize in this case so I once tried it with cartopy and the other time with folium"
   ]
  },
  {
   "cell_type": "code",
   "execution_count": null,
   "metadata": {},
   "outputs": [],
   "source": [
    "#In order to visualize our bounding box on the map we use the cartopy library\n",
    "\n",
    "\n",
    "import matplotlib.pyplot as plt\n",
    "import cartopy.crs as ccrs\n",
    "import cartopy.feature as cfeature\n",
    "from shapely.geometry import box\n",
    "import cartopy.io.shapereader as shpreader\n",
    "\n",
    "# Original Buzi bounding box (small, precise region)\n",
    "buzi_bbox = [33.8931254, 34.8127126, -20.5695588, -19.582687]  # (lon_min, lon_max, lat_min, lat_max)\n",
    "\n",
    "# Expanded bounding box (to give context)\n",
    "lon_min, lon_max = 15, 60  # Wider longitude range\n",
    "lat_min, lat_max = -7, -40  # Taller latitude range\n",
    "\n",
    "# Create figure with PlateCarree projection\n",
    "fig, ax = plt.subplots(figsize=(10, 8), subplot_kw={'projection': ccrs.PlateCarree()})\n",
    "\n",
    "# Set the map extent to the larger bounding box\n",
    "ax.set_extent([lon_min, lon_max, lat_min, lat_max], crs=ccrs.PlateCarree())\n",
    "\n",
    "# Add background map features\n",
    "ax.add_feature(cfeature.BORDERS, linestyle='-')\n",
    "ax.add_feature(cfeature.COASTLINE)\n",
    "ax.add_feature(cfeature.LAND, facecolor='lightgreen')\n",
    "ax.add_feature(cfeature.OCEAN, facecolor='lightblue')\n",
    "\n",
    "\n",
    "\n",
    "# Add gridlines\n",
    "gl = ax.gridlines(draw_labels=True, linestyle=\"--\", alpha=0.5)\n",
    "gl.right_labels = False\n",
    "gl.top_labels = False\n",
    "\n",
    "\n",
    "# Draw the original Buzi bounding box (in red)\n",
    "buzi_box = box(buzi_bbox[0], buzi_bbox[2], buzi_bbox[1], buzi_bbox[3])\n",
    "ax.add_geometries([buzi_box], crs=ccrs.PlateCarree(), facecolor='none', edgecolor='red', linewidth=2, label=\"Buzi Region\")\n",
    "ax.text(35, -20.4, \"Buzi\", fontsize=12, color='red', weight='bold',\n",
    "        transform=ccrs.PlateCarree())\n",
    "\n",
    "# Add title and legend\n",
    "plt.title(\"Mozambique\")\n",
    "plt.legend()\n",
    "\n",
    "# Show the map\n",
    "plt.show()\n"
   ]
  },
  {
   "cell_type": "code",
   "execution_count": null,
   "metadata": {},
   "outputs": [],
   "source": [
    "import folium\n",
    "\n",
    "# Create map centered on Mozambique\n",
    "m = folium.Map(location=[-20, 40], zoom_start=5)\n",
    "\n",
    "# Bounding Box [min_lon, max_lon, min_lat, max_lat]\n",
    "bb = [34, 35, -21, -20]\n",
    "\n",
    "# Define the coordinates for the bounding box\n",
    "coordinates = [\n",
    "    [bb[2], bb[0]],  # [min_lat, min_lon]\n",
    "    [bb[2], bb[1]],  # [min_lat, max_lon]\n",
    "    [bb[3], bb[1]],  # [max_lat, max_lon]\n",
    "    [bb[3], bb[0]],  # [max_lat, min_lon]\n",
    "    [bb[2], bb[0]],  # Closing the loop: [min_lat, min_lon]\n",
    "]\n",
    "\n",
    "# Create a polygon (bounding box) and add a fill\n",
    "bounding_box = folium.Polygon(\n",
    "    locations=coordinates,\n",
    "    color=\"#39FF14\",  # Border color\n",
    "    weight=1,\n",
    "    fill=True,  # Fill the box with color\n",
    "    fill_color=\"#39FF14\",  # Fill color\n",
    "    fill_opacity=0.3  # Make the fill semi-transparent\n",
    ").add_to(m)\n",
    "\n",
    "# Add a popup to the bounding box (this will be triggered on click inside the filled area)\n",
    "popup_label = \"Buzi\"  # Text for the popup\n",
    "folium.Popup(popup_label).add_to(bounding_box)\n",
    "\n",
    "\n",
    "\n",
    "# Display the map\n",
    "m"
   ]
  },
  {
   "cell_type": "code",
   "execution_count": null,
   "metadata": {},
   "outputs": [],
   "source": [
    "#at this point we access the ascat data in form of netCDF files\n",
    "#Remember: netCDF files are processed products of the ascat (advanced scatterometer) carried on th MetOp satellite \n",
    "\n",
    "\n",
    "cell_source = \"/home/jlinke/shares/exchange/students/julian/ASCAT_Mozambique_data\"\n",
    "cell_collection = rat.CellFileCollectionStack.from_product_id(cell_source, \"H121_V1.0\")"
   ]
  },
  {
   "cell_type": "code",
   "execution_count": null,
   "metadata": {},
   "outputs": [],
   "source": [
    "#Here we take a look at the metadata of one netCDF file called \"1524.nc\"\n",
    "\n",
    "ncsource= \"/home/jlinke/shares/exchange/students/julian/ASCAT_Mozambique_data/1524.nc\"\n",
    "ds=nc.Dataset(ncsource)\n",
    "print(ds)"
   ]
  },
  {
   "cell_type": "code",
   "execution_count": null,
   "metadata": {},
   "outputs": [],
   "source": [
    "#We can access the variables of the netCDF file like a library object\n",
    "#Be aware not to confuse the metadata from above with the variable keys\n",
    "#Although the variable keys are already given in the metadata as well (see \"variables(dimensions): int64 row_size(locations),...\")\n",
    "\n",
    "print(ds.variables.keys())"
   ]
  },
  {
   "cell_type": "code",
   "execution_count": null,
   "metadata": {},
   "outputs": [],
   "source": [
    "#metadata about how the time data is stored\n",
    "\n",
    "print(ds.variables['time'])"
   ]
  },
  {
   "cell_type": "code",
   "execution_count": null,
   "metadata": {},
   "outputs": [],
   "source": [
    "#As you can see above (see \"units: days since 1970-01-01 00:00:00\") we have a big timeframe to look at\n",
    "#Just to be sure we check when the timeframe starts and ends \n",
    "#We also take a look at the time resolution of the first ten timestamps \n",
    "\n",
    "# Extract first time value\n",
    "time_var = ds.variables[\"time\"]  # Access time variable\n",
    "time_units = time_var.units  # Get the unit string (e.g., \"days since 1970-01-01\")\n",
    "time_value_start = time_var[0]  # First timestamp\n",
    "time_value_10 = time_var[0:9]  # First few timestemps\n",
    "time_value_end = time_var[-1]   # Last timestamp\n",
    "\n",
    "# Convert to readable date\n",
    "first_date = nc.num2date(time_value_start, units=time_units)\n",
    "last_date = nc.num2date(time_value_end, units=time_units)\n",
    "first_ten = nc.num2date(time_value_10, units=time_units)\n",
    "\n",
    "\n",
    "print(\"First observation date:\", first_date, \"\\n\", \"Last observation date:\", last_date,\"\\n\")\n",
    "print(\"First 10 observation dates:\") \n",
    "\n",
    "\n",
    "for i in range(len(first_ten)):\n",
    "    print(first_ten[i])\n",
    "\n",
    "# Close dataset\n",
    "#ds.close()"
   ]
  },
  {
   "cell_type": "code",
   "execution_count": null,
   "metadata": {},
   "outputs": [],
   "source": [
    "print(ds.variables.keys())"
   ]
  },
  {
   "cell_type": "code",
   "execution_count": null,
   "metadata": {},
   "outputs": [],
   "source": [
    "#We still working with only one netCDF file called \"1524.nc\"\n",
    "#Now we gonna take a look at the minimum and maximum latitude and longitude \n",
    "lat_var=ds.variables['lat']\n",
    "lon_var=ds.variables['lon']\n",
    "\n",
    "print(\"Max latitude:\",max(lat_var),\"Min latitude:\",min(lat_var),\"\\n\")\n",
    "print(\"Max longitude:\",max(lon_var),\"Min longitude:\",min(lon_var))\n",
    "\n"
   ]
  },
  {
   "cell_type": "code",
   "execution_count": null,
   "metadata": {},
   "outputs": [],
   "source": [
    "#Above we see that the area that is covered by our data is quite big\n",
    "#Especially compared to our bounding box for Buzi f.e.\n",
    "#In order to avoid our code to crash due to overload, we have to filter out data and make it smaller\n",
    "#We do this with the help of the xarray library"
   ]
  },
  {
   "cell_type": "code",
   "execution_count": null,
   "metadata": {},
   "outputs": [],
   "source": [
    "xrds=xr.open_dataset(\"/home/jlinke/shares/exchange/students/julian/ASCAT_Mozambique_data/1524.nc\",\n",
    "                     chunks={\"time\":100})\n",
    "\n",
    "xrds"
   ]
  },
  {
   "cell_type": "code",
   "execution_count": null,
   "metadata": {},
   "outputs": [],
   "source": [
    "min_lat=xrds.lat.min().values\n",
    "max_lat=xrds.lat.max().values\n",
    "min_lon=xrds.lon.min().values\n",
    "min_lon=xrds.lon.max().values\n",
    "\n",
    "print(min_lat)\n",
    "print(max_lat)\n",
    "print(min_lon)\n",
    "print(max_lon)"
   ]
  },
  {
   "cell_type": "code",
   "execution_count": null,
   "metadata": {},
   "outputs": [],
   "source": [
    "#Seemingly we have to filter the NaNs in the xarray "
   ]
  },
  {
   "cell_type": "code",
   "execution_count": null,
   "metadata": {},
   "outputs": [],
   "source": []
  },
  {
   "cell_type": "code",
   "execution_count": null,
   "metadata": {},
   "outputs": [],
   "source": []
  },
  {
   "cell_type": "code",
   "execution_count": null,
   "metadata": {},
   "outputs": [],
   "source": [
    "#this part might no be needed\n",
    "\n",
    "# Define location name\n",
    "\n",
    "area_dict = {\"Buzi\":{\"lat\":[],'lon':[]},\"Chokwé\":{\"lat\":[],'lon':[]},\"Mabalane\":{\"lat\":[],'lon':[]},\n",
    "             \"Mabote\":{\"lat\":[],'lon':[]},\"Muanza\":{\"lat\":[],'lon':[]}}\n",
    "\n",
    "for name in area_dict:\n",
    "    \n",
    "    gdf=ox.geocode_to_gdf(name)\n",
    "    bbox = gdf.total_bounds\n",
    "    min_lon, min_lat, max_lon, max_lat = bbox\n",
    "    area_dict[name][\"lon\"].extend([min_lon, max_lon]) \n",
    "    area_dict[name][\"lat\"].extend([min_lat, max_lat])\n",
    "    \n",
    "area_dict\n"
   ]
  },
  {
   "cell_type": "code",
   "execution_count": null,
   "metadata": {},
   "outputs": [],
   "source": [
    "#this part might no be needed\n",
    "\n",
    "# Path to the directory\n",
    "directory_path = \"/home/jlinke/shares/exchange/students/julian/ASCAT_Mozambique_data/\"\n",
    "\n",
    "# List all files in the directory\n",
    "files = os.listdir(directory_path)\n",
    "\n",
    "print(files)\n",
    "\n",
    "# Loop through the files\n",
    "for file in files:\n",
    "    \n",
    "    ncsource= f\"/home/jlinke/shares/exchange/students/julian/ASCAT_Mozambique_data/{file}\"\n",
    "    ds=nc.Dataset(ncsource)\n",
    "    list=ds.variables.keys()\n",
    "    print(list)\n",
    "        "
   ]
  },
  {
   "cell_type": "code",
   "execution_count": null,
   "metadata": {},
   "outputs": [],
   "source": []
  },
  {
   "cell_type": "code",
   "execution_count": null,
   "metadata": {},
   "outputs": [],
   "source": []
  },
  {
   "cell_type": "code",
   "execution_count": null,
   "metadata": {},
   "outputs": [],
   "source": []
  },
  {
   "cell_type": "code",
   "execution_count": null,
   "metadata": {},
   "outputs": [],
   "source": [
    "#so at first we tried the bounding box for whole Mozambique but that always crashed\n",
    "#lets try it with the bounding box just for the area of Buzi\n",
    "\n",
    "#bounds = (-21,-20,34,35) #latmin, latmax, lonmin, lonmax\n",
    "bounds = (-27,-10,30,41) #latmin, latmax, lonmin, lonmax\n",
    "\n",
    "output_bbox = cell_collection.read(bbox=bounds)\n",
    "\n",
    "#The timeframe we choose for now is a random date until the end of the dataset\n",
    "#random_date= np.datetime64(\"2024-05-30 20:07:09.816000\")\n",
    "#dates = (random_date, np.datetime64(last_date))\n",
    "\n",
    "# Now apply the time range filter\n",
    "#dates = (random_date, np.datetime64(last_date))\n",
    "#output_bbox_filtered_by_time = output_bbox.sel(time=slice(dates[0], dates[1]))\n",
    "\n",
    "#output_bbox_filtered_by_time\n",
    "\n",
    "#output_bbox = cell_collection.read(bbox=bounds, date_range=dates)\n",
    "#output_bbox"
   ]
  },
  {
   "cell_type": "code",
   "execution_count": null,
   "metadata": {},
   "outputs": [],
   "source": []
  }
 ],
 "metadata": {
  "kernelspec": {
   "display_name": "drysat",
   "language": "python",
   "name": "python3"
  },
  "language_info": {
   "codemirror_mode": {
    "name": "ipython",
    "version": 3
   },
   "file_extension": ".py",
   "mimetype": "text/x-python",
   "name": "python",
   "nbconvert_exporter": "python",
   "pygments_lexer": "ipython3",
   "version": "3.13.2"
  }
 },
 "nbformat": 4,
 "nbformat_minor": 2
}

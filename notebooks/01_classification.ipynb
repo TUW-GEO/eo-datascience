{
  "cells": [
    {
      "cell_type": "markdown",
      "metadata": {},
      "source": [
        "---\n",
        "title: Classification\n",
        "author: Pikall Nikolas\n",
        "jupyter: \n",
        "  kernelspec:\n",
        "    name: \"01_classification\"\n",
        "    language: \"python\"\n",
        "    display_name: \"01_classification\"\n",
        "---"
      ]
    },
    {
      "cell_type": "code",
      "metadata": {},
      "source": [
        "#| echo: true\n",
        "#| code-fold: true\n",
        "# Imports\n",
        "import os\n",
        "import xarray as xr\n",
        "import numpy as np\n",
        "import datetime as dt\n",
        "import cmcrameri as cmc\n",
        "import folium\n",
        "from dotenv import dotenv_values\n",
        "\n",
        "from eodag import EODataAccessGateway, SearchResult, setup_logging\n",
        "from rasterio.crs import CRS\n",
        "\n",
        "# Setup logging\n",
        "setup_logging(0)"
      ],
      "execution_count": null,
      "outputs": []
    },
    {
      "cell_type": "markdown",
      "metadata": {},
      "source": [
        "Lorum ipsum"
      ]
    }
  ],
  "metadata": {
    "kernelspec": {
      "name": "01_classification",
      "language": "python",
      "display_name": "01_classification"
    }
  },
  "nbformat": 4,
  "nbformat_minor": 4
}
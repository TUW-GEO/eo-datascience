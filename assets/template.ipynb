{
 "cells": [
  {
   "cell_type": "markdown",
   "id": "52695e91",
   "metadata": {},
   "source": [
    "---\n",
    "title: <ENTER TITLE>\n",
    "jupyter: <ENTER KERNEL NAME>\n",
    "---"
   ]
  }
 ],
 "metadata": {
  "language_info": {
   "name": "python"
  }
 },
 "nbformat": 4,
 "nbformat_minor": 5
}

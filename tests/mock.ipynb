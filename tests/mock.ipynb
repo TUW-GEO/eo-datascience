{
 "cells": [
  {
   "cell_type": "markdown",
   "metadata": {},
   "source": [
    "---\n",
    "title: This a mock Jupyter file\n",
    "subtitle: We use it for testing\n",
    "author: anonymous\n",
    "jupyter:\n",
    "  kernelspec:\n",
    "    name: \"eo-datascience\"\n",
    "    language: \"python\"\n",
    "    display_name: \"eo-datascience\"\n",
    "---\n",
    "\n",
    "::: {.callout-note}\n",
    "This a callout note.\n",
    ":::\n",
    "\n",
    "lorem ipsum [@anon2024] and [@anon2025] and lorem ipsum @anon2024 and @anon2025\n"
   ]
  }
 ],
 "metadata": {
  "kernelspec": {
   "display_name": "eo-datascience",
   "language": "python",
   "name": "eo-datascience"
  }
 },
 "nbformat": 4,
 "nbformat_minor": 4
}

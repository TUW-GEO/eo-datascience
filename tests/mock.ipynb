{
 "cells": [
  {
   "cell_type": "raw",
   "metadata": {},
   "source": [
    "---\n",
    "title: This a mock Jupyter file\n",
    "subtitle: We use it for testing\n",
    "author: anonymous\n",
    "---\n",
    "\n",
    "Some other text, which should not be deleted!"
   ]
  },
  {
   "cell_type": "markdown",
   "metadata": {},
   "source": [
    "::: {.callout-note}\n",
    "This a callout note.\n",
    ":::"
   ]
  },
  {
   "cell_type": "markdown",
   "metadata": {},
   "source": [
    "lorem ipsum [@anon2024] and [@anon2025] and lorem ipsum @anon2024 and @anon2025"
   ]
  }
 ],
 "metadata": {
  "language_info": {
   "name": "python"
  }
 },
 "nbformat": 4,
 "nbformat_minor": 2
}
